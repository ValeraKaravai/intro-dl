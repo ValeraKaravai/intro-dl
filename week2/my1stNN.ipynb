{
 "cells": [
  {
   "cell_type": "code",
   "execution_count": 1,
   "metadata": {},
   "outputs": [
    {
     "name": "stderr",
     "output_type": "stream",
     "text": [
      "Using TensorFlow backend.\n"
     ]
    },
    {
     "name": "stdout",
     "output_type": "stream",
     "text": [
      "(50000, 28, 28) (50000,)\n"
     ]
    },
    {
     "data": {
      "image/png": "[encoded data removed]",
      "text/plain": [
       "<matplotlib.figure.Figure at 0x10b13f630>"
      ]
     },
     "metadata": {},
     "output_type": "display_data"
    }
   ],
   "source": [
    "from preprocessed_mnist import load_dataset\n",
    "X_train, y_train, X_val, y_val, X_test, y_test = load_dataset()\n",
    "print(X_train.shape, y_train.shape)\n",
    "import matplotlib.pyplot as plt\n",
    "%matplotlib inline\n",
    "plt.imshow(X_train[0], cmap=\"Greys\");"
   ]
  },
  {
   "cell_type": "code",
   "execution_count": 2,
   "metadata": {
    "collapsed": true
   },
   "outputs": [],
   "source": [
    "import numpy as np\n",
    "import tensorflow as tf"
   ]
  },
  {
   "cell_type": "markdown",
   "metadata": {},
   "source": [
    "## Parameters for data preparation, training NN"
   ]
  },
  {
   "cell_type": "markdown",
   "metadata": {},
   "source": [
    "To achieve more accuracy, I tried a NN with 2 hidden layers (size layer, 200 and 100). The array size_layer can be expanded (more hidden layers)."
   ]
  },
  {
   "cell_type": "code",
   "execution_count": 3,
   "metadata": {},
   "outputs": [],
   "source": [
    "## Size NN\n",
    "num_classes = len(np.unique(y_test))\n",
    "num_feature = X_train.shape[1]*X_train.shape[2]\n",
    "num_train = X_train.shape[0]\n",
    "num_test = X_test.shape[0]\n",
    "display_step = 100\n",
    "\n",
    "## For learning\n",
    "num_steps = 5000\n",
    "learning_rate = 0.005\n",
    "size_batch = 100\n",
    "size_layer = [num_feature, 200, 100, num_classes]"
   ]
  },
  {
   "cell_type": "markdown",
   "metadata": {},
   "source": [
    "## Data preparation and visualization function"
   ]
  },
  {
   "cell_type": "code",
   "execution_count": 4,
   "metadata": {
    "collapsed": true
   },
   "outputs": [],
   "source": [
    "def prepare_x(df, num_feature, n):\n",
    "    return df.reshape([n, num_feature])\n",
    "\n",
    "def prepare_y(df, num_classes, n):\n",
    "    df_new = np.zeros((n, num_classes))\n",
    "    for ind, val in enumerate(df):\n",
    "        df_new[ind, val] = 1\n",
    "    return df_new\n",
    "\n",
    "def visualize(history, title):\n",
    "    plt.plot(history)\n",
    "    plt.title(title)\n",
    "    plt.grid()\n",
    "    plt.show()"
   ]
  },
  {
   "cell_type": "markdown",
   "metadata": {},
   "source": [
    "## Update (prepare) train/test sets"
   ]
  },
  {
   "cell_type": "code",
   "execution_count": 5,
   "metadata": {},
   "outputs": [
    {
     "data": {
      "text/plain": [
       "((50000, 784), (10000, 784), (50000, 10), (10000, 10))"
      ]
     },
     "execution_count": 5,
     "metadata": {},
     "output_type": "execute_result"
    }
   ],
   "source": [
    "X_train = prepare_x(X_train, num_feature=num_feature, \n",
    "                    n = num_train)\n",
    "X_test = prepare_x(X_test, num_feature=num_feature, \n",
    "                   n = num_test)\n",
    "y_train = prepare_y(y_train, num_classes=num_classes, \n",
    "                    n= num_train)\n",
    "y_test = prepare_y(y_test, num_classes=num_classes, \n",
    "                   n= num_test)\n",
    "X_train.shape, X_test.shape, y_train.shape, y_test.shape"
   ]
  },
  {
   "cell_type": "markdown",
   "metadata": {},
   "source": [
    "## Create tensors (input, output, weights, bias)"
   ]
  },
  {
   "cell_type": "code",
   "execution_count": 6,
   "metadata": {},
   "outputs": [],
   "source": [
    "# ## X, y\n",
    "input_X = tf.placeholder(tf.float32, shape = [None, num_feature])\n",
    "input_y = tf.placeholder(tf.float32, shape = [None, num_classes])\n",
    "\n",
    "## w, b\n",
    "weights = {}\n",
    "bias = {}\n",
    "\n",
    "for i in range(1, len(size_layer)):\n",
    "    w = tf.Variable(tf.truncated_normal([size_layer[i - 1], size_layer[i]], stddev=0.1))\n",
    "    b = tf.Variable(tf.zeros([size_layer[i]]))\n",
    "    \n",
    "    # Update dictionary weight and bias\n",
    "    name = 'l'+ str(i)\n",
    "    weights.update({name: w})\n",
    "    bias.update({name: b})"
   ]
  },
  {
   "cell_type": "markdown",
   "metadata": {},
   "source": [
    "## Forward (predict)"
   ]
  },
  {
   "cell_type": "code",
   "execution_count": 7,
   "metadata": {
    "collapsed": true
   },
   "outputs": [],
   "source": [
    "def forward(x):\n",
    "    y_prev_layer = x\n",
    "    for i in range(1, len(weights) + 1):\n",
    "        keys = 'l'+str(i)\n",
    "        y_new = tf.matmul(y_prev_layer, weights[keys]) + bias[keys]\n",
    "        y_prev_layer = y_new\n",
    "        if i != len(weights):\n",
    "            y_new = tf.nn.sigmoid(y_new)\n",
    "        y_prev_layer = y_new\n",
    "    y_logit = y_prev_layer\n",
    "    y_predictions = tf.nn.softmax(y_logit)\n",
    "    return y_logit, y_predictions"
   ]
  },
  {
   "cell_type": "markdown",
   "metadata": {},
   "source": [
    "## Create model "
   ]
  },
  {
   "cell_type": "markdown",
   "metadata": {},
   "source": [
    "Predictions -> Loss -> Opt loss"
   ]
  },
  {
   "cell_type": "code",
   "execution_count": 8,
   "metadata": {},
   "outputs": [],
   "source": [
    "y_logit, y_predictions = forward(input_X)\n",
    "\n",
    "loss = tf.reduce_mean(tf.nn.softmax_cross_entropy_with_logits(\n",
    "    logits=y_logit, labels=input_y))*size_batch\n",
    "\n",
    "opt = tf.train.GradientDescentOptimizer(learning_rate=learning_rate).minimize(loss)"
   ]
  },
  {
   "cell_type": "markdown",
   "metadata": {},
   "source": [
    "## Evaluate model"
   ]
  },
  {
   "cell_type": "code",
   "execution_count": 9,
   "metadata": {},
   "outputs": [],
   "source": [
    "equal_pred = tf.equal(tf.argmax(y_predictions, 1), tf.argmax(input_y, 1))\n",
    "accuracy = tf.reduce_mean(tf.cast(equal_pred, tf.float32))"
   ]
  },
  {
   "cell_type": "code",
   "execution_count": 10,
   "metadata": {},
   "outputs": [
    {
     "name": "stdout",
     "output_type": "stream",
     "text": [
      "Step = 0, loss = 229.506, accuracy_train = 0.15, accuray_test = 0.1028\n",
      "Step = 100, loss = 89.5076, accuracy_train = 0.75, accuray_test = 0.6716\n",
      "Step = 200, loss = 45.2972, accuracy_train = 0.9, accuray_test = 0.8532\n",
      "Step = 300, loss = 29.2057, accuracy_train = 0.92, accuray_test = 0.8801\n",
      "Step = 400, loss = 27.1516, accuracy_train = 0.93, accuray_test = 0.8947\n",
      "Step = 500, loss = 27.9083, accuracy_train = 0.95, accuray_test = 0.8944\n",
      "Step = 600, loss = 26.9129, accuracy_train = 0.91, accuray_test = 0.902\n",
      "Step = 700, loss = 27.9261, accuracy_train = 0.93, accuray_test = 0.9051\n",
      "Step = 800, loss = 43.5311, accuracy_train = 0.86, accuray_test = 0.9054\n",
      "Step = 900, loss = 33.214, accuracy_train = 0.89, accuray_test = 0.908\n",
      "Step = 1000, loss = 21.0416, accuracy_train = 0.94, accuray_test = 0.9205\n",
      "Step = 1100, loss = 27.4447, accuracy_train = 0.9, accuray_test = 0.9199\n",
      "Step = 1200, loss = 14.6828, accuracy_train = 0.96, accuray_test = 0.9254\n",
      "Step = 1300, loss = 14.9185, accuracy_train = 0.95, accuray_test = 0.9299\n",
      "Step = 1400, loss = 9.97434, accuracy_train = 0.97, accuray_test = 0.9305\n",
      "Step = 1500, loss = 10.216, accuracy_train = 0.98, accuray_test = 0.9321\n",
      "Step = 1600, loss = 9.84418, accuracy_train = 0.98, accuray_test = 0.9349\n",
      "Step = 1700, loss = 26.5213, accuracy_train = 0.92, accuray_test = 0.9358\n",
      "Step = 1800, loss = 20.0393, accuracy_train = 0.94, accuray_test = 0.9369\n",
      "Step = 1900, loss = 7.1299, accuracy_train = 0.98, accuray_test = 0.9411\n",
      "Step = 2000, loss = 7.5213, accuracy_train = 0.99, accuray_test = 0.9409\n",
      "Step = 2100, loss = 7.08971, accuracy_train = 0.98, accuray_test = 0.9404\n",
      "Step = 2200, loss = 23.1298, accuracy_train = 0.96, accuray_test = 0.9446\n",
      "Step = 2300, loss = 17.7208, accuracy_train = 0.96, accuray_test = 0.9439\n",
      "Step = 2400, loss = 8.07068, accuracy_train = 0.98, accuray_test = 0.9472\n",
      "Step = 2500, loss = 7.70671, accuracy_train = 0.97, accuray_test = 0.945\n",
      "Step = 2600, loss = 19.5244, accuracy_train = 0.95, accuray_test = 0.9503\n",
      "Step = 2700, loss = 23.2855, accuracy_train = 0.95, accuray_test = 0.9497\n",
      "Step = 2800, loss = 30.132, accuracy_train = 0.91, accuray_test = 0.9511\n",
      "Step = 2900, loss = 6.19554, accuracy_train = 0.99, accuray_test = 0.9503\n",
      "Step = 3000, loss = 8.66756, accuracy_train = 0.97, accuray_test = 0.9531\n",
      "Step = 3100, loss = 5.36166, accuracy_train = 1, accuray_test = 0.9514\n",
      "Step = 3200, loss = 9.71234, accuracy_train = 0.97, accuray_test = 0.9518\n",
      "Step = 3300, loss = 15.96, accuracy_train = 0.95, accuray_test = 0.9553\n",
      "Step = 3400, loss = 8.67677, accuracy_train = 0.98, accuray_test = 0.9564\n",
      "Step = 3500, loss = 6.28731, accuracy_train = 0.99, accuray_test = 0.9571\n",
      "Step = 3600, loss = 7.71193, accuracy_train = 0.97, accuray_test = 0.9566\n",
      "Step = 3700, loss = 4.72594, accuracy_train = 0.99, accuray_test = 0.9579\n",
      "Step = 3800, loss = 5.82949, accuracy_train = 0.99, accuray_test = 0.959\n",
      "Step = 3900, loss = 5.44187, accuracy_train = 1, accuray_test = 0.9593\n",
      "Step = 4000, loss = 3.84831, accuracy_train = 0.99, accuray_test = 0.9603\n",
      "Step = 4100, loss = 5.4048, accuracy_train = 0.99, accuray_test = 0.9573\n",
      "Step = 4200, loss = 10.4916, accuracy_train = 0.99, accuray_test = 0.9551\n",
      "Step = 4300, loss = 9.42414, accuracy_train = 0.97, accuray_test = 0.9594\n",
      "Step = 4400, loss = 6.54544, accuracy_train = 0.99, accuray_test = 0.9578\n",
      "Step = 4500, loss = 7.01275, accuracy_train = 0.98, accuray_test = 0.9655\n",
      "Step = 4600, loss = 5.21666, accuracy_train = 0.99, accuray_test = 0.9595\n",
      "Step = 4700, loss = 5.92104, accuracy_train = 0.99, accuray_test = 0.9635\n",
      "Step = 4800, loss = 5.78854, accuracy_train = 0.99, accuray_test = 0.9631\n",
      "Step = 4900, loss = 4.34348, accuracy_train = 0.99, accuray_test = 0.9636\n",
      "Step = 5000, loss = 9.54424, accuracy_train = 0.98, accuray_test = 0.964\n",
      "Stop optimization\n",
      "Testing accuracy: 0.964\n"
     ]
    },
    {
     "data": {
      "image/png": "[encoded data removed]",
      "text/plain": [
       "<matplotlib.figure.Figure at 0x1212cfe80>"
      ]
     },
     "metadata": {},
     "output_type": "display_data"
    },
    {
     "data": {
      "image/png": "[encoded data removed]",
      "text/plain": [
       "<matplotlib.figure.Figure at 0x12130abe0>"
      ]
     },
     "metadata": {},
     "output_type": "display_data"
    }
   ],
   "source": [
    "\n",
    "init = tf.global_variables_initializer()\n",
    "loss_train_history = []\n",
    "acc_train_history = []\n",
    "loss_test_history = []\n",
    "with tf.Session() as sess:\n",
    "    sess.run(init)\n",
    "    for step in range(num_steps + 1):\n",
    "        ind = np.random.choice(num_train, size_batch)\n",
    "        x_part, y_part = X_train[ind,:], y_train[ind,:]\n",
    "        sess.run(opt, feed_dict={input_X: x_part, input_y: y_part})\n",
    "\n",
    "        \n",
    "        if step % display_step == 0: \n",
    "            \n",
    "            ## train\n",
    "            loss_train, accuracy_train = sess.run([loss, accuracy], \n",
    "                                                  feed_dict={input_X: x_part, input_y: y_part})\n",
    "            loss_train_history.append(loss_train)\n",
    "            \n",
    "            ## test\n",
    "            loss_test, accuracy_test = sess.run([loss, accuracy], \n",
    "                                     feed_dict={input_X: X_test, input_y: y_test})\n",
    "            loss_test_history.append(loss_test)\n",
    "            \n",
    "            print(\"Step = %d, loss = %g, accuracy_train = %g, accuray_test = %g\" % \n",
    "                  (step, loss_train, accuracy_train, accuracy_test))\n",
    "\n",
    "    print(\"Stop optimization\")\n",
    "    accuracy_test = sess.run(accuracy, feed_dict={input_X: X_test, input_y: y_test})\n",
    "    print(\"Testing accuracy: %g\" % accuracy_test)\n",
    "visualize(loss_train_history, 'Loss train')\n",
    "visualize(loss_test_history, 'Loss test')"
   ]
  },
  {
   "cell_type": "code",
   "execution_count": null,
   "metadata": {},
   "outputs": [],
   "source": []
  }
 ],
 "metadata": {
  "kernelspec": {
   "display_name": "Python 3",
   "language": "python",
   "name": "python3"
  },
  "language_info": {
   "codemirror_mode": {
    "name": "ipython",
    "version": 3
   },
   "file_extension": ".py",
   "mimetype": "text/x-python",
   "name": "python",
   "nbconvert_exporter": "python",
   "pygments_lexer": "ipython3",
   "version": "3.6.1"
  }
 },
 "nbformat": 4,
 "nbformat_minor": 2
}
